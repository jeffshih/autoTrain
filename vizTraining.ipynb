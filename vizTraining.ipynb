{
 "cells": [
  {
   "cell_type": "code",
   "execution_count": 1,
   "metadata": {},
   "outputs": [],
   "source": [
    "import sys\n",
    "import os\n",
    "sys.path.append('/root/pva-faster-rcnn/lib')\n",
    "sys.path.append('/root/pva-faster-rcnn/lib/datasets')\n",
    "sys.path.append('/root/pva-faster-rcnn/tools')\n",
    "import glob\n",
    "import _init_paths\n",
    "from fast_rcnn.config import cfg\n",
    "from fast_rcnn.test import im_detect,get_layer_name\n",
    "from fast_rcnn.nms_wrapper import nms\n",
    "from utils.timer import Timer\n",
    "import matplotlib.pyplot as plt\n",
    "import numpy as np\n",
    "import scipy.io as sio\n",
    "import caffe, cv2\n",
    "import argparse\n",
    "import json\n",
    "from fast_rcnn.config import cfg, cfg_from_file, cfg_from_list\n",
    "from datasets.config import CLASS_SETS\n",
    "from datasets.vatic_hierarchy import VaticData, IMDBGroup\n",
    "from datasets.openImage import openImageData\n",
    "#from datasets.vatic import VaticData, IMDBGroup\n",
    "import random\n",
    "from scipy.misc import imread\n",
    "import re\n",
    "import timeit\n",
    "import csv"
   ]
  },
  {
   "cell_type": "code",
   "execution_count": 25,
   "metadata": {},
   "outputs": [
    {
     "name": "stdout",
     "output_type": "stream",
     "text": [
      "[[  1.59373612e-05  -1.22982659e-04   3.47750538e-05 ...,  -1.05236046e-04\n",
      "   -1.62965196e-04   1.19126402e-04]\n",
      " [  1.22332887e-04   1.62459895e-04   1.45414815e-04 ...,  -1.09999113e-04\n",
      "    4.97156034e-05  -1.11046240e-04]\n",
      " [  7.82021525e-05  -8.51341392e-05  -1.59049203e-04 ...,   1.44928839e-04\n",
      "    2.25128329e-04   1.14528491e-04]\n",
      " ..., \n",
      " [ -1.28578825e-03   8.17582186e-04   3.30553460e-03 ...,  -5.07080345e-04\n",
      "    4.38429788e-03  -4.26053768e-03]\n",
      " [  1.62260700e-03   8.13750885e-05   1.54314761e-03 ...,   1.02087135e-04\n",
      "   -3.01476335e-04   1.31668081e-03]\n",
      " [ -7.99447298e-04   9.43814579e-04  -2.04773434e-03 ...,   5.10259415e-04\n",
      "    3.43889650e-03  -7.27814797e-04]]\n",
      "=====================\n",
      "[[  1.59373612e-05  -1.22982659e-04   3.47750538e-05 ...,  -1.05236046e-04\n",
      "   -1.62965196e-04   1.19126402e-04]\n",
      " [  1.22332887e-04   1.62459895e-04   1.45414815e-04 ...,  -1.09999113e-04\n",
      "    4.97156034e-05  -1.11046240e-04]\n",
      " [  7.82021525e-05  -8.51341392e-05  -1.59049203e-04 ...,   1.44928839e-04\n",
      "    2.25128329e-04   1.14528491e-04]\n",
      " ..., \n",
      " [ -1.28579128e-03   8.17582186e-04   3.30553600e-03 ...,  -5.07080869e-04\n",
      "    4.38429974e-03  -4.26053861e-03]\n",
      " [  1.62260630e-03   8.13791921e-05   1.54314656e-03 ...,   1.02087783e-04\n",
      "   -3.01485619e-04   1.31667184e-03]\n",
      " [ -7.99456437e-04   9.43814579e-04  -2.04773806e-03 ...,   5.10258717e-04\n",
      "    3.43888858e-03  -7.27819628e-04]]\n"
     ]
    }
   ],
   "source": [
    "caffe.set_mode_gpu()\n",
    "#prototxt = '/root/pva-faster-rcnn/models/pvanet/lite/human0826_test.prototxt'\n",
    "prototxt = \"/root/pva-faster-rcnn/models/pvanet/lite/weapon0826_test.prototxt\"\n",
    "\n",
    "caffeModel1 = '/root/pva-faster-rcnn/models/output/weapon0826/weapon0826_iter_54000.caffemodel'\n",
    "net = caffe.Net(prototxt, caffeModel1, caffe.TEST)\n",
    "caffeModel2 = '/root/pva-faster-rcnn/models/output/weapon0826/weapon0826_iter_58000.caffemodel'\n",
    "net2 = caffe.Net(prototxt, caffeModel2, caffe.TEST)\n",
    "\n",
    "print net.params['bbox_pred-coco'][0].data\n",
    "print \"=====================\"\n",
    "\n",
    "print net2.params['bbox_pred-coco'][0].data"
   ]
  },
  {
   "cell_type": "code",
   "execution_count": null,
   "metadata": {},
   "outputs": [],
   "source": []
  }
 ],
 "metadata": {
  "kernelspec": {
   "display_name": "Python 2",
   "language": "python",
   "name": "python2"
  },
  "language_info": {
   "codemirror_mode": {
    "name": "ipython",
    "version": 2
   },
   "file_extension": ".py",
   "mimetype": "text/x-python",
   "name": "python",
   "nbconvert_exporter": "python",
   "pygments_lexer": "ipython2",
   "version": "2.7.6"
  }
 },
 "nbformat": 4,
 "nbformat_minor": 2
}
