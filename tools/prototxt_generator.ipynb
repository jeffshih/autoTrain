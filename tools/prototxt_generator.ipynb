{
 "cells": [
  {
   "cell_type": "code",
   "execution_count": 1,
   "metadata": {},
   "outputs": [],
   "source": [
    "from jinja2 import Environment, FileSystemLoader, select_autoescape\n",
    "env = Environment(loader=FileSystemLoader('/'))\n",
    "train_template = \"root/pva-faster-rcnn/models/pvanet/lite/template_train.prototxt\" \n",
    "test_template = \"root/pva-faster-rcnn/models/pvanet/lite/template_test.prototxt\" \n",
    "solver_template = \"root/pva-faster-rcnn/models/pvanet/lite/template_solver.prototxt\" "
   ]
  },
  {
   "cell_type": "code",
   "execution_count": 2,
   "metadata": {},
   "outputs": [],
   "source": [
    "output_prefix = \"three\"\n",
    "num_classes = 3\n",
    "bbox_pred_name = \"bbox_pred-coco\"\n",
    "cls_score_name = \"cls_score-coco\""
   ]
  },
  {
   "cell_type": "code",
   "execution_count": 8,
   "metadata": {},
   "outputs": [],
   "source": [
    "#Generating Prototxt\n",
    "def generate_prototxt(template_path, output_name, num_classes, bbox_pred_name, cls_score_name):\n",
    "    output = env.get_template(template_path).render(num_classes= num_classes,\\\n",
    "                                                 bbox_pred_name=bbox_pred_name, cls_score_name=cls_score_name)\n",
    "    print output\n",
    "    w = open(output_name, 'w')\n",
    "    w.write(output)\n",
    "    w.close()\n",
    "\n",
    "def generate_solver(template_path, output_name, num_classes, bbox_pred_name, cls_score_name):\n",
    "    output = env.get_template(template_path).render(num_classes= num_classes,\\\n",
    "                                                 bbox_pred_name=bbox_pred_name, cls_score_name=cls_score_name,train_path=train_path)\n",
    "    print output\n",
    "    w = open(output_name, 'w')\n",
    "    w.write(output)\n",
    "    w.close()"
   ]
  },
  {
   "cell_type": "code",
   "execution_count": 4,
   "metadata": {},
   "outputs": [],
   "source": [
    "#Generating Training Prototxt\n",
    "train_path = \"/root/pva-faster-rcnn/models/pvanet/lite/{}_train.prototxt\".format(output_prefix)\n",
    "print train_path\n",
    "generate_prototxt(train_template, train_path, num_classes, bbox_pred_name, cls_score_name)\n",
    "\n",
    "#Generating Testing Prototxt\n",
    "test_path = \"/root/pva-faster-rcnn/models/pvanet/lite/{}_test.prototxt\".format(output_prefix)\n",
    "generate_prototxt(test_template, test_path, num_classes, bbox_pred_name, cls_score_name)\n",
    "\n",
    "#Generating Solver Prototxt\n",
    "solver_path = \"/root/pva-faster-rcnn/models/pvanet/lite/{}_solver.prototxt\".format(output_prefix)\n",
    "generate_prototxt(solver_template, solver_path, num_classes, bbox_pred_name, cls_score_name)"
   ]
  },
  {
   "cell_type": "code",
   "execution_count": 9,
   "metadata": {},
   "outputs": [
    {
     "name": "stdout",
     "output_type": "stream",
     "text": [
      "train_net: \"/root/pva-faster-rcnn/models/pvanet/lite/three_train.prototxt\"\n",
      "\n",
      "base_lr: 0.0005\n",
      "lr_policy: \"step\"\n",
      "gamma: 0.1\n",
      "stepsize: 10000\n",
      "display: 20\n",
      "average_loss: 100\n",
      "momentum: 0.9\n",
      "weight_decay: 0.0002\n",
      "\n",
      "\n",
      "# We disable standard caffe solver snapshotting and implement our own snapshot\n",
      "# function\n",
      "snapshot: 0\n",
      "# We still use the snapshot prefix, though\n",
      "snapshot_prefix: \"kai_train\"\n",
      "iter_size: 25\n"
     ]
    }
   ],
   "source": [
    "solver_path = \"/root/pva-faster-rcnn/models/pvanet/lite/{}_solver.prototxt\".format(output_prefix)\n",
    "generate_solver(solver_template, solver_path, num_classes, bbox_pred_name, cls_score_name)"
   ]
  },
  {
   "cell_type": "code",
   "execution_count": null,
   "metadata": {},
   "outputs": [],
   "source": []
  }
 ],
 "metadata": {
  "kernelspec": {
   "display_name": "Python 2",
   "language": "python",
   "name": "python2"
  },
  "language_info": {
   "codemirror_mode": {
    "name": "ipython",
    "version": 2
   },
   "file_extension": ".py",
   "mimetype": "text/x-python",
   "name": "python",
   "nbconvert_exporter": "python",
   "pygments_lexer": "ipython2",
   "version": "2.7.6"
  }
 },
 "nbformat": 4,
 "nbformat_minor": 2
}
